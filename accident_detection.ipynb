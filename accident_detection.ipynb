{
  "metadata": {
    "kernelspec": {
      "display_name": "Python 3",
      "name": "python3"
    },
    "language_info": {
      "name": "python",
      "version": "3.10.13",
      "mimetype": "text/x-python",
      "codemirror_mode": {
        "name": "ipython",
        "version": 3
      },
      "pygments_lexer": "ipython3",
      "nbconvert_exporter": "python",
      "file_extension": ".py"
    },
    "kaggle": {
      "accelerator": "nvidiaTeslaT4",
      "dataSources": [
        {
          "sourceId": 1379553,
          "sourceType": "datasetVersion",
          "datasetId": 804753
        }
      ],
      "dockerImageVersionId": 30665,
      "isInternetEnabled": true,
      "language": "python",
      "sourceType": "notebook",
      "isGpuEnabled": true
    },
    "colab": {
      "provenance": [],
      "gpuType": "T4"
    },
    "accelerator": "GPU"
  },
  "nbformat_minor": 0,
  "nbformat": 4,
  "cells": [
    {
      "cell_type": "code",
      "source": [
        "!pip install opendatasets --quiet\n",
        "import opendatasets as od\n",
        "od.download('https://www.kaggle.com/datasets/ckay16/accident-detection-from-cctv-footage')"
      ],
      "metadata": {
        "colab": {
          "base_uri": "https://localhost:8080/"
        },
        "id": "aesuF92-d1H5",
        "outputId": "e05c0f9c-f136-4607-fb6e-610efa74ff4b"
      },
      "execution_count": null,
      "outputs": [
        {
          "output_type": "stream",
          "name": "stdout",
          "text": [
            "Downloading accident-detection-from-cctv-footage.zip to ./accident-detection-from-cctv-footage\n"
          ]
        },
        {
          "output_type": "stream",
          "name": "stderr",
          "text": [
            "100%|██████████| 249M/249M [00:02<00:00, 130MB/s]\n"
          ]
        },
        {
          "output_type": "stream",
          "name": "stdout",
          "text": [
            "\n"
          ]
        }
      ]
    },
    {
      "cell_type": "code",
      "source": [
        "import numpy as np\n",
        "import tensorflow as tf\n",
        "from tensorflow.keras import layers"
      ],
      "metadata": {
        "_uuid": "8f2839f25d086af736a60e9eeb907d3b93b6e0e5",
        "_cell_guid": "b1076dfc-b9ad-4769-8c92-a6c4dae69d19",
        "execution": {
          "iopub.status.busy": "2024-03-08T10:28:18.928559Z",
          "iopub.execute_input": "2024-03-08T10:28:18.928945Z",
          "iopub.status.idle": "2024-03-08T10:28:32.744345Z",
          "shell.execute_reply.started": "2024-03-08T10:28:18.928906Z",
          "shell.execute_reply": "2024-03-08T10:28:32.743493Z"
        },
        "trusted": true,
        "id": "LEbNfd0Edz7N"
      },
      "execution_count": null,
      "outputs": []
    },
    {
      "cell_type": "code",
      "source": [
        "img_size= (256,256)\n",
        "batch_size = 128"
      ],
      "metadata": {
        "execution": {
          "iopub.status.busy": "2024-03-08T10:28:32.746130Z",
          "iopub.execute_input": "2024-03-08T10:28:32.746895Z",
          "iopub.status.idle": "2024-03-08T10:28:32.752113Z",
          "shell.execute_reply.started": "2024-03-08T10:28:32.746857Z",
          "shell.execute_reply": "2024-03-08T10:28:32.750991Z"
        },
        "trusted": true,
        "id": "W46YmhA1dz7R"
      },
      "execution_count": null,
      "outputs": []
    },
    {
      "cell_type": "code",
      "source": [
        "train_ds = tf.keras.preprocessing.image_dataset_from_directory(\n",
        "    'accident-detection-from-cctv-footage/data/train',\n",
        "    image_size=(img_size),\n",
        "    batch_size=batch_size,\n",
        "    seed=42\n",
        ")\n",
        "val_ds = tf.keras.preprocessing.image_dataset_from_directory(\n",
        "    'accident-detection-from-cctv-footage/data/val',\n",
        "    image_size=(img_size),\n",
        "    batch_size=batch_size*2,\n",
        "    seed=42\n",
        ")\n",
        "test_ds = tf.keras.preprocessing.image_dataset_from_directory(\n",
        "    'accident-detection-from-cctv-footage/data/test',\n",
        "    image_size=(img_size),\n",
        "    batch_size=batch_size*2,\n",
        "    seed=42\n",
        ")"
      ],
      "metadata": {
        "execution": {
          "iopub.status.busy": "2024-03-08T10:28:32.753432Z",
          "iopub.execute_input": "2024-03-08T10:28:32.753817Z",
          "iopub.status.idle": "2024-03-08T10:28:35.784434Z",
          "shell.execute_reply.started": "2024-03-08T10:28:32.753783Z",
          "shell.execute_reply": "2024-03-08T10:28:35.783593Z"
        },
        "trusted": true,
        "colab": {
          "base_uri": "https://localhost:8080/"
        },
        "id": "Go6lK39Idz7R",
        "outputId": "c3e03ad1-2ec3-47f1-b7ae-10daa4a577df"
      },
      "execution_count": null,
      "outputs": [
        {
          "output_type": "stream",
          "name": "stdout",
          "text": [
            "Found 791 files belonging to 2 classes.\n",
            "Found 98 files belonging to 2 classes.\n",
            "Found 100 files belonging to 2 classes.\n"
          ]
        }
      ]
    },
    {
      "cell_type": "code",
      "source": [
        "class_name = train_ds.class_names\n",
        "print(class_name)\n",
        "AUTOTUNE = tf.data.experimental.AUTOTUNE\n",
        "train_ds = train_ds.cache().prefetch(buffer_size = AUTOTUNE)\n",
        "val_ds = val_ds.cache().prefetch(buffer_size = AUTOTUNE)\n",
        "test_ds = test_ds.cache().prefetch(buffer_size = AUTOTUNE)"
      ],
      "metadata": {
        "execution": {
          "iopub.status.busy": "2024-03-08T10:28:35.786519Z",
          "iopub.execute_input": "2024-03-08T10:28:35.786889Z",
          "iopub.status.idle": "2024-03-08T10:28:35.810741Z",
          "shell.execute_reply.started": "2024-03-08T10:28:35.786864Z",
          "shell.execute_reply": "2024-03-08T10:28:35.809856Z"
        },
        "trusted": true,
        "colab": {
          "base_uri": "https://localhost:8080/"
        },
        "id": "KTVSxpPfdz7S",
        "outputId": "38cd345f-de21-4fc8-ed1c-373414fd921c"
      },
      "execution_count": null,
      "outputs": [
        {
          "output_type": "stream",
          "name": "stdout",
          "text": [
            "['Accident', 'Non Accident']\n"
          ]
        }
      ]
    },
    {
      "cell_type": "code",
      "source": [
        "model = tf.keras.models.Sequential([\n",
        "    layers.BatchNormalization(),\n",
        "    layers.Conv2D(32,3,activation=\"relu\"),\n",
        "    layers.MaxPooling2D(),\n",
        "    layers.Conv2D(64,3,activation=\"relu\"),\n",
        "    layers.MaxPooling2D(),\n",
        "    layers.Conv2D(128,3,activation=\"relu\"),\n",
        "    layers.MaxPooling2D(),\n",
        "    layers.Conv2D(256,3,activation=\"relu\"),\n",
        "    layers.MaxPooling2D(),\n",
        "    layers.Conv2D(512,3,activation=\"relu\"),\n",
        "    layers.MaxPooling2D(),\n",
        "    layers.Flatten(),\n",
        "    layers.Dense(1024,activation=\"relu\"),\n",
        "    layers.Dense(len(class_name),activation=\"softmax\")\n",
        "])\n",
        "model.compile(optimizer=\"adam\" , loss=\"sparse_categorical_crossentropy\",metrics=[\"accuracy\"])"
      ],
      "metadata": {
        "execution": {
          "iopub.status.busy": "2024-03-08T10:28:35.811992Z",
          "iopub.execute_input": "2024-03-08T10:28:35.812354Z",
          "iopub.status.idle": "2024-03-08T10:28:35.900135Z",
          "shell.execute_reply.started": "2024-03-08T10:28:35.812317Z",
          "shell.execute_reply": "2024-03-08T10:28:35.898722Z"
        },
        "trusted": true,
        "id": "fmdlOXdNdz7T"
      },
      "execution_count": null,
      "outputs": []
    },
    {
      "cell_type": "code",
      "source": [
        "model.fit(train_ds, validation_data=val_ds,epochs=50)"
      ],
      "metadata": {
        "execution": {
          "iopub.status.busy": "2024-03-08T10:28:35.901875Z",
          "iopub.execute_input": "2024-03-08T10:28:35.902234Z",
          "iopub.status.idle": "2024-03-08T10:30:47.099622Z",
          "shell.execute_reply.started": "2024-03-08T10:28:35.902197Z",
          "shell.execute_reply": "2024-03-08T10:30:47.098617Z"
        },
        "trusted": true,
        "colab": {
          "base_uri": "https://localhost:8080/"
        },
        "id": "XDGZJLU4dz7T",
        "outputId": "0539c4b9-7b4e-4998-ee13-02299dc4f191"
      },
      "execution_count": null,
      "outputs": [
        {
          "output_type": "stream",
          "name": "stdout",
          "text": [
            "Epoch 1/50\n",
            "7/7 [==============================] - 29s 1s/step - loss: 1.8032 - accuracy: 0.5461 - val_loss: 0.7248 - val_accuracy: 0.5306\n",
            "Epoch 2/50\n",
            "7/7 [==============================] - 2s 265ms/step - loss: 0.6885 - accuracy: 0.5335 - val_loss: 0.6839 - val_accuracy: 0.5714\n",
            "Epoch 3/50\n",
            "7/7 [==============================] - 2s 282ms/step - loss: 0.6762 - accuracy: 0.5904 - val_loss: 0.6845 - val_accuracy: 0.5510\n",
            "Epoch 4/50\n",
            "7/7 [==============================] - 2s 266ms/step - loss: 0.6515 - accuracy: 0.6321 - val_loss: 0.8899 - val_accuracy: 0.4898\n",
            "Epoch 5/50\n",
            "7/7 [==============================] - 2s 265ms/step - loss: 0.6371 - accuracy: 0.6372 - val_loss: 0.6743 - val_accuracy: 0.6122\n",
            "Epoch 6/50\n",
            "7/7 [==============================] - 2s 267ms/step - loss: 0.6088 - accuracy: 0.6738 - val_loss: 0.6934 - val_accuracy: 0.7041\n",
            "Epoch 7/50\n",
            "7/7 [==============================] - 2s 267ms/step - loss: 0.5746 - accuracy: 0.7042 - val_loss: 0.7087 - val_accuracy: 0.7143\n",
            "Epoch 8/50\n",
            "7/7 [==============================] - 2s 271ms/step - loss: 0.5379 - accuracy: 0.7383 - val_loss: 0.6995 - val_accuracy: 0.7449\n",
            "Epoch 9/50\n",
            "7/7 [==============================] - 2s 270ms/step - loss: 0.4886 - accuracy: 0.7636 - val_loss: 0.6265 - val_accuracy: 0.7551\n",
            "Epoch 10/50\n",
            "7/7 [==============================] - 2s 268ms/step - loss: 0.4101 - accuracy: 0.8003 - val_loss: 0.6963 - val_accuracy: 0.7551\n",
            "Epoch 11/50\n",
            "7/7 [==============================] - 2s 267ms/step - loss: 0.3162 - accuracy: 0.8534 - val_loss: 0.6933 - val_accuracy: 0.8265\n",
            "Epoch 12/50\n",
            "7/7 [==============================] - 2s 268ms/step - loss: 0.2528 - accuracy: 0.9027 - val_loss: 0.6554 - val_accuracy: 0.8469\n",
            "Epoch 13/50\n",
            "7/7 [==============================] - 2s 270ms/step - loss: 0.2181 - accuracy: 0.9153 - val_loss: 0.7946 - val_accuracy: 0.7755\n",
            "Epoch 14/50\n",
            "7/7 [==============================] - 2s 271ms/step - loss: 0.1531 - accuracy: 0.9355 - val_loss: 0.6065 - val_accuracy: 0.8265\n",
            "Epoch 15/50\n",
            "7/7 [==============================] - 2s 288ms/step - loss: 0.1439 - accuracy: 0.9406 - val_loss: 0.5661 - val_accuracy: 0.8265\n",
            "Epoch 16/50\n",
            "7/7 [==============================] - 2s 271ms/step - loss: 0.0981 - accuracy: 0.9659 - val_loss: 0.6241 - val_accuracy: 0.8571\n",
            "Epoch 17/50\n",
            "7/7 [==============================] - 2s 272ms/step - loss: 0.0991 - accuracy: 0.9735 - val_loss: 0.2085 - val_accuracy: 0.9184\n",
            "Epoch 18/50\n",
            "7/7 [==============================] - 2s 279ms/step - loss: 0.0642 - accuracy: 0.9772 - val_loss: 0.3101 - val_accuracy: 0.8878\n",
            "Epoch 19/50\n",
            "7/7 [==============================] - 2s 274ms/step - loss: 0.0699 - accuracy: 0.9747 - val_loss: 1.1028 - val_accuracy: 0.7857\n",
            "Epoch 20/50\n",
            "7/7 [==============================] - 2s 279ms/step - loss: 0.1443 - accuracy: 0.9520 - val_loss: 0.1989 - val_accuracy: 0.9082\n",
            "Epoch 21/50\n",
            "7/7 [==============================] - 2s 275ms/step - loss: 0.0894 - accuracy: 0.9709 - val_loss: 0.3567 - val_accuracy: 0.9082\n",
            "Epoch 22/50\n",
            "7/7 [==============================] - 2s 276ms/step - loss: 0.0715 - accuracy: 0.9735 - val_loss: 0.0672 - val_accuracy: 0.9796\n",
            "Epoch 23/50\n",
            "7/7 [==============================] - 2s 277ms/step - loss: 0.0569 - accuracy: 0.9798 - val_loss: 0.3573 - val_accuracy: 0.8673\n",
            "Epoch 24/50\n",
            "7/7 [==============================] - 2s 276ms/step - loss: 0.0477 - accuracy: 0.9848 - val_loss: 0.1193 - val_accuracy: 0.9490\n",
            "Epoch 25/50\n",
            "7/7 [==============================] - 2s 277ms/step - loss: 0.0469 - accuracy: 0.9861 - val_loss: 0.1999 - val_accuracy: 0.9286\n",
            "Epoch 26/50\n",
            "7/7 [==============================] - 2s 281ms/step - loss: 0.0288 - accuracy: 0.9912 - val_loss: 0.1848 - val_accuracy: 0.9286\n",
            "Epoch 27/50\n",
            "7/7 [==============================] - 2s 276ms/step - loss: 0.0292 - accuracy: 0.9899 - val_loss: 0.2050 - val_accuracy: 0.9490\n",
            "Epoch 28/50\n",
            "7/7 [==============================] - 2s 291ms/step - loss: 0.0198 - accuracy: 0.9937 - val_loss: 0.1411 - val_accuracy: 0.9388\n",
            "Epoch 29/50\n",
            "7/7 [==============================] - 2s 277ms/step - loss: 0.0290 - accuracy: 0.9924 - val_loss: 0.1972 - val_accuracy: 0.9490\n",
            "Epoch 30/50\n",
            "7/7 [==============================] - 2s 279ms/step - loss: 0.0219 - accuracy: 0.9912 - val_loss: 0.2027 - val_accuracy: 0.8878\n",
            "Epoch 31/50\n",
            "7/7 [==============================] - 2s 280ms/step - loss: 0.0308 - accuracy: 0.9861 - val_loss: 0.1669 - val_accuracy: 0.9490\n",
            "Epoch 32/50\n",
            "7/7 [==============================] - 2s 282ms/step - loss: 0.0198 - accuracy: 0.9924 - val_loss: 0.2250 - val_accuracy: 0.9184\n",
            "Epoch 33/50\n",
            "7/7 [==============================] - 2s 282ms/step - loss: 0.0309 - accuracy: 0.9886 - val_loss: 0.1603 - val_accuracy: 0.9388\n",
            "Epoch 34/50\n",
            "7/7 [==============================] - 2s 281ms/step - loss: 0.0323 - accuracy: 0.9861 - val_loss: 0.1605 - val_accuracy: 0.9388\n",
            "Epoch 35/50\n",
            "7/7 [==============================] - 2s 283ms/step - loss: 0.0328 - accuracy: 0.9924 - val_loss: 0.1595 - val_accuracy: 0.9490\n",
            "Epoch 36/50\n",
            "7/7 [==============================] - 2s 285ms/step - loss: 0.0175 - accuracy: 0.9924 - val_loss: 0.1352 - val_accuracy: 0.9388\n",
            "Epoch 37/50\n",
            "7/7 [==============================] - 2s 288ms/step - loss: 0.0176 - accuracy: 0.9924 - val_loss: 0.1406 - val_accuracy: 0.9388\n",
            "Epoch 38/50\n",
            "7/7 [==============================] - 2s 285ms/step - loss: 0.0163 - accuracy: 0.9912 - val_loss: 0.1558 - val_accuracy: 0.9286\n",
            "Epoch 39/50\n",
            "7/7 [==============================] - 2s 286ms/step - loss: 0.0136 - accuracy: 0.9937 - val_loss: 0.1473 - val_accuracy: 0.9490\n",
            "Epoch 40/50\n",
            "7/7 [==============================] - 2s 288ms/step - loss: 0.0157 - accuracy: 0.9912 - val_loss: 0.1693 - val_accuracy: 0.9490\n",
            "Epoch 41/50\n",
            "7/7 [==============================] - 2s 289ms/step - loss: 0.0134 - accuracy: 0.9924 - val_loss: 0.1633 - val_accuracy: 0.9286\n",
            "Epoch 42/50\n",
            "7/7 [==============================] - 2s 306ms/step - loss: 0.0162 - accuracy: 0.9912 - val_loss: 0.1727 - val_accuracy: 0.9592\n",
            "Epoch 43/50\n",
            "7/7 [==============================] - 2s 289ms/step - loss: 0.0118 - accuracy: 0.9924 - val_loss: 0.1537 - val_accuracy: 0.9592\n",
            "Epoch 44/50\n",
            "7/7 [==============================] - 2s 289ms/step - loss: 0.0128 - accuracy: 0.9912 - val_loss: 0.1600 - val_accuracy: 0.9592\n",
            "Epoch 45/50\n",
            "7/7 [==============================] - 2s 289ms/step - loss: 0.0116 - accuracy: 0.9912 - val_loss: 0.1529 - val_accuracy: 0.9490\n",
            "Epoch 46/50\n",
            "7/7 [==============================] - 2s 287ms/step - loss: 0.0133 - accuracy: 0.9912 - val_loss: 0.1597 - val_accuracy: 0.9490\n",
            "Epoch 47/50\n",
            "7/7 [==============================] - 2s 289ms/step - loss: 0.0122 - accuracy: 0.9912 - val_loss: 0.1575 - val_accuracy: 0.9388\n",
            "Epoch 48/50\n",
            "7/7 [==============================] - 2s 287ms/step - loss: 0.0128 - accuracy: 0.9912 - val_loss: 0.1614 - val_accuracy: 0.9490\n",
            "Epoch 49/50\n",
            "7/7 [==============================] - 2s 285ms/step - loss: 0.0112 - accuracy: 0.9912 - val_loss: 0.1584 - val_accuracy: 0.9490\n",
            "Epoch 50/50\n",
            "7/7 [==============================] - 2s 285ms/step - loss: 0.0117 - accuracy: 0.9912 - val_loss: 0.1616 - val_accuracy: 0.9490\n"
          ]
        },
        {
          "output_type": "execute_result",
          "data": {
            "text/plain": [
              "<keras.src.callbacks.History at 0x7dc3b160fee0>"
            ]
          },
          "metadata": {},
          "execution_count": 7
        }
      ]
    },
    {
      "cell_type": "code",
      "source": [
        "from keras.utils import plot_model\n",
        "plot_model(model, show_layer_names=True)"
      ],
      "metadata": {
        "execution": {
          "iopub.status.busy": "2024-03-08T10:30:47.100738Z",
          "iopub.execute_input": "2024-03-08T10:30:47.101050Z",
          "iopub.status.idle": "2024-03-08T10:30:47.713007Z",
          "shell.execute_reply.started": "2024-03-08T10:30:47.101025Z",
          "shell.execute_reply": "2024-03-08T10:30:47.712132Z"
        },
        "trusted": true,
        "colab": {
          "base_uri": "https://localhost:8080/",
          "height": 1000
        },
        "id": "LUlGW71qdz7U",
        "outputId": "ba639462-37b1-4f8b-9228-9ef67eb256ba"
      },
      "execution_count": null,
      "outputs": [
        {
          "output_type": "execute_result",
          "data": {
            "image/png": "[encoded data removed]",
            "text/plain": [
              "<IPython.core.display.Image object>"
            ]
          },
          "metadata": {},
          "execution_count": 8
        }
      ]
    },
    {
      "cell_type": "code",
      "source": [
        "model.save_weights('model.h5')"
      ],
      "metadata": {
        "execution": {
          "iopub.status.busy": "2024-03-08T10:30:47.714152Z",
          "iopub.execute_input": "2024-03-08T10:30:47.714454Z",
          "iopub.status.idle": "2024-03-08T10:30:48.392925Z",
          "shell.execute_reply.started": "2024-03-08T10:30:47.714429Z",
          "shell.execute_reply": "2024-03-08T10:30:48.392068Z"
        },
        "trusted": true,
        "id": "K8vVSpoEdz7U"
      },
      "execution_count": null,
      "outputs": []
    },
    {
      "cell_type": "code",
      "source": [
        "json_model = model.to_json()\n",
        "with open(\"model.json\", \"w\") as json_file:\n",
        "    json_file.write(json_model)"
      ],
      "metadata": {
        "execution": {
          "iopub.status.busy": "2024-03-08T10:31:09.998448Z",
          "iopub.execute_input": "2024-03-08T10:31:09.999241Z",
          "iopub.status.idle": "2024-03-08T10:31:10.007370Z",
          "shell.execute_reply.started": "2024-03-08T10:31:09.999204Z",
          "shell.execute_reply": "2024-03-08T10:31:10.006424Z"
        },
        "trusted": true,
        "id": "w-VTF7wHdz7V"
      },
      "execution_count": null,
      "outputs": []
    },
    {
      "cell_type": "code",
      "source": [
        "json_model"
      ],
      "metadata": {
        "execution": {
          "iopub.status.busy": "2024-03-08T10:31:14.408753Z",
          "iopub.execute_input": "2024-03-08T10:31:14.409708Z",
          "iopub.status.idle": "2024-03-08T10:31:14.421457Z",
          "shell.execute_reply.started": "2024-03-08T10:31:14.409669Z",
          "shell.execute_reply": "2024-03-08T10:31:14.420281Z"
        },
        "trusted": true,
        "colab": {
          "base_uri": "https://localhost:8080/",
          "height": 140
        },
        "id": "IPnhffBOdz7V",
        "outputId": "0d13660f-5d14-4715-98dc-e83949570661"
      },
      "execution_count": null,
      "outputs": [
        {
          "output_type": "execute_result",
          "data": {
            "text/plain": [
              "'{\"class_name\": \"Sequential\", \"config\": {\"name\": \"sequential\", \"layers\": [{\"module\": \"keras.layers\", \"class_name\": \"InputLayer\", \"config\": {\"batch_input_shape\": [null, 256, 256, 3], \"dtype\": \"float32\", \"sparse\": false, \"ragged\": false, \"name\": \"batch_normalization_input\"}, \"registered_name\": null}, {\"module\": \"keras.layers\", \"class_name\": \"BatchNormalization\", \"config\": {\"name\": \"batch_normalization\", \"trainable\": true, \"dtype\": \"float32\", \"axis\": [3], \"momentum\": 0.99, \"epsilon\": 0.001, \"center\": true, \"scale\": true, \"beta_initializer\": {\"module\": \"keras.initializers\", \"class_name\": \"Zeros\", \"config\": {}, \"registered_name\": null}, \"gamma_initializer\": {\"module\": \"keras.initializers\", \"class_name\": \"Ones\", \"config\": {}, \"registered_name\": null}, \"moving_mean_initializer\": {\"module\": \"keras.initializers\", \"class_name\": \"Zeros\", \"config\": {}, \"registered_name\": null}, \"moving_variance_initializer\": {\"module\": \"keras.initializers\", \"class_name\": \"Ones\", \"config\": {}, \"registered_name\": null}, \"beta_regularizer\": null, \"gamma_regularizer\": null, \"beta_constraint\": null, \"gamma_constraint\": null}, \"registered_name\": null, \"build_config\": {\"input_shape\": [null, 256, 256, 3]}}, {\"module\": \"keras.layers\", \"class_name\": \"Conv2D\", \"config\": {\"name\": \"conv2d\", \"trainable\": true, \"dtype\": \"float32\", \"filters\": 32, \"kernel_size\": [3, 3], \"strides\": [1, 1], \"padding\": \"valid\", \"data_format\": \"channels_last\", \"dilation_rate\": [1, 1], \"groups\": 1, \"activation\": \"relu\", \"use_bias\": true, \"kernel_initializer\": {\"module\": \"keras.initializers\", \"class_name\": \"GlorotUniform\", \"config\": {\"seed\": null}, \"registered_name\": null}, \"bias_initializer\": {\"module\": \"keras.initializers\", \"class_name\": \"Zeros\", \"config\": {}, \"registered_name\": null}, \"kernel_regularizer\": null, \"bias_regularizer\": null, \"activity_regularizer\": null, \"kernel_constraint\": null, \"bias_constraint\": null}, \"registered_name\": null, \"build_config\": {\"input_shape\": [null, 256, 256, 3]}}, {\"module\": \"keras.layers\", \"class_name\": \"MaxPooling2D\", \"config\": {\"name\": \"max_pooling2d\", \"trainable\": true, \"dtype\": \"float32\", \"pool_size\": [2, 2], \"padding\": \"valid\", \"strides\": [2, 2], \"data_format\": \"channels_last\"}, \"registered_name\": null, \"build_config\": {\"input_shape\": [null, 254, 254, 32]}}, {\"module\": \"keras.layers\", \"class_name\": \"Conv2D\", \"config\": {\"name\": \"conv2d_1\", \"trainable\": true, \"dtype\": \"float32\", \"filters\": 64, \"kernel_size\": [3, 3], \"strides\": [1, 1], \"padding\": \"valid\", \"data_format\": \"channels_last\", \"dilation_rate\": [1, 1], \"groups\": 1, \"activation\": \"relu\", \"use_bias\": true, \"kernel_initializer\": {\"module\": \"keras.initializers\", \"class_name\": \"GlorotUniform\", \"config\": {\"seed\": null}, \"registered_name\": null}, \"bias_initializer\": {\"module\": \"keras.initializers\", \"class_name\": \"Zeros\", \"config\": {}, \"registered_name\": null}, \"kernel_regularizer\": null, \"bias_regularizer\": null, \"activity_regularizer\": null, \"kernel_constraint\": null, \"bias_constraint\": null}, \"registered_name\": null, \"build_config\": {\"input_shape\": [null, 127, 127, 32]}}, {\"module\": \"keras.layers\", \"class_name\": \"MaxPooling2D\", \"config\": {\"name\": \"max_pooling2d_1\", \"trainable\": true, \"dtype\": \"float32\", \"pool_size\": [2, 2], \"padding\": \"valid\", \"strides\": [2, 2], \"data_format\": \"channels_last\"}, \"registered_name\": null, \"build_config\": {\"input_shape\": [null, 125, 125, 64]}}, {\"module\": \"keras.layers\", \"class_name\": \"Conv2D\", \"config\": {\"name\": \"conv2d_2\", \"trainable\": true, \"dtype\": \"float32\", \"filters\": 128, \"kernel_size\": [3, 3], \"strides\": [1, 1], \"padding\": \"valid\", \"data_format\": \"channels_last\", \"dilation_rate\": [1, 1], \"groups\": 1, \"activation\": \"relu\", \"use_bias\": true, \"kernel_initializer\": {\"module\": \"keras.initializers\", \"class_name\": \"GlorotUniform\", \"config\": {\"seed\": null}, \"registered_name\": null}, \"bias_initializer\": {\"module\": \"keras.initializers\", \"class_name\": \"Zeros\", \"config\": {}, \"registered_name\": null}, \"kernel_regularizer\": null, \"bias_regularizer\": null, \"activity_regularizer\": null, \"kernel_constraint\": null, \"bias_constraint\": null}, \"registered_name\": null, \"build_config\": {\"input_shape\": [null, 62, 62, 64]}}, {\"module\": \"keras.layers\", \"class_name\": \"MaxPooling2D\", \"config\": {\"name\": \"max_pooling2d_2\", \"trainable\": true, \"dtype\": \"float32\", \"pool_size\": [2, 2], \"padding\": \"valid\", \"strides\": [2, 2], \"data_format\": \"channels_last\"}, \"registered_name\": null, \"build_config\": {\"input_shape\": [null, 60, 60, 128]}}, {\"module\": \"keras.layers\", \"class_name\": \"Conv2D\", \"config\": {\"name\": \"conv2d_3\", \"trainable\": true, \"dtype\": \"float32\", \"filters\": 256, \"kernel_size\": [3, 3], \"strides\": [1, 1], \"padding\": \"valid\", \"data_format\": \"channels_last\", \"dilation_rate\": [1, 1], \"groups\": 1, \"activation\": \"relu\", \"use_bias\": true, \"kernel_initializer\": {\"module\": \"keras.initializers\", \"class_name\": \"GlorotUniform\", \"config\": {\"seed\": null}, \"registered_name\": null}, \"bias_initializer\": {\"module\": \"keras.initializers\", \"class_name\": \"Zeros\", \"config\": {}, \"registered_name\": null}, \"kernel_regularizer\": null, \"bias_regularizer\": null, \"activity_regularizer\": null, \"kernel_constraint\": null, \"bias_constraint\": null}, \"registered_name\": null, \"build_config\": {\"input_shape\": [null, 30, 30, 128]}}, {\"module\": \"keras.layers\", \"class_name\": \"MaxPooling2D\", \"config\": {\"name\": \"max_pooling2d_3\", \"trainable\": true, \"dtype\": \"float32\", \"pool_size\": [2, 2], \"padding\": \"valid\", \"strides\": [2, 2], \"data_format\": \"channels_last\"}, \"registered_name\": null, \"build_config\": {\"input_shape\": [null, 28, 28, 256]}}, {\"module\": \"keras.layers\", \"class_name\": \"Conv2D\", \"config\": {\"name\": \"conv2d_4\", \"trainable\": true, \"dtype\": \"float32\", \"filters\": 512, \"kernel_size\": [3, 3], \"strides\": [1, 1], \"padding\": \"valid\", \"data_format\": \"channels_last\", \"dilation_rate\": [1, 1], \"groups\": 1, \"activation\": \"relu\", \"use_bias\": true, \"kernel_initializer\": {\"module\": \"keras.initializers\", \"class_name\": \"GlorotUniform\", \"config\": {\"seed\": null}, \"registered_name\": null}, \"bias_initializer\": {\"module\": \"keras.initializers\", \"class_name\": \"Zeros\", \"config\": {}, \"registered_name\": null}, \"kernel_regularizer\": null, \"bias_regularizer\": null, \"activity_regularizer\": null, \"kernel_constraint\": null, \"bias_constraint\": null}, \"registered_name\": null, \"build_config\": {\"input_shape\": [null, 14, 14, 256]}}, {\"module\": \"keras.layers\", \"class_name\": \"MaxPooling2D\", \"config\": {\"name\": \"max_pooling2d_4\", \"trainable\": true, \"dtype\": \"float32\", \"pool_size\": [2, 2], \"padding\": \"valid\", \"strides\": [2, 2], \"data_format\": \"channels_last\"}, \"registered_name\": null, \"build_config\": {\"input_shape\": [null, 12, 12, 512]}}, {\"module\": \"keras.layers\", \"class_name\": \"Flatten\", \"config\": {\"name\": \"flatten\", \"trainable\": true, \"dtype\": \"float32\", \"data_format\": \"channels_last\"}, \"registered_name\": null, \"build_config\": {\"input_shape\": [null, 6, 6, 512]}}, {\"module\": \"keras.layers\", \"class_name\": \"Dense\", \"config\": {\"name\": \"dense\", \"trainable\": true, \"dtype\": \"float32\", \"units\": 1024, \"activation\": \"relu\", \"use_bias\": true, \"kernel_initializer\": {\"module\": \"keras.initializers\", \"class_name\": \"GlorotUniform\", \"config\": {\"seed\": null}, \"registered_name\": null}, \"bias_initializer\": {\"module\": \"keras.initializers\", \"class_name\": \"Zeros\", \"config\": {}, \"registered_name\": null}, \"kernel_regularizer\": null, \"bias_regularizer\": null, \"activity_regularizer\": null, \"kernel_constraint\": null, \"bias_constraint\": null}, \"registered_name\": null, \"build_config\": {\"input_shape\": [null, 18432]}}, {\"module\": \"keras.layers\", \"class_name\": \"Dense\", \"config\": {\"name\": \"dense_1\", \"trainable\": true, \"dtype\": \"float32\", \"units\": 2, \"activation\": \"softmax\", \"use_bias\": true, \"kernel_initializer\": {\"module\": \"keras.initializers\", \"class_name\": \"GlorotUniform\", \"config\": {\"seed\": null}, \"registered_name\": null}, \"bias_initializer\": {\"module\": \"keras.initializers\", \"class_name\": \"Zeros\", \"config\": {}, \"registered_name\": null}, \"kernel_regularizer\": null, \"bias_regularizer\": null, \"activity_regularizer\": null, \"kernel_constraint\": null, \"bias_constraint\": null}, \"registered_name\": null, \"build_config\": {\"input_shape\": [null, 1024]}}]}, \"keras_version\": \"2.15.0\", \"backend\": \"tensorflow\"}'"
            ],
            "application/vnd.google.colaboratory.intrinsic+json": {
              "type": "string"
            }
          },
          "metadata": {},
          "execution_count": 11
        }
      ]
    },
    {
      "cell_type": "code",
      "source": [
        "from google.colab import drive\n",
        "drive.mount('/content/drive')"
      ],
      "metadata": {
        "colab": {
          "base_uri": "https://localhost:8080/"
        },
        "id": "zbMyq5oAdz7W",
        "outputId": "0808dadf-8446-4c5d-cfb2-18586d7c6534"
      },
      "execution_count": null,
      "outputs": [
        {
          "output_type": "stream",
          "name": "stdout",
          "text": [
            "Mounted at /content/drive\n"
          ]
        }
      ]
    },
    {
      "cell_type": "code",
      "source": [
        "import shutil"
      ],
      "metadata": {
        "id": "AYeydv0UgXGw"
      },
      "execution_count": null,
      "outputs": []
    },
    {
      "cell_type": "code",
      "source": [
        "shutil.copy(\"model.h5\",\"/content/drive/MyDrive/\")"
      ],
      "metadata": {
        "id": "TnyGLDYvgdBI",
        "outputId": "54b17208-2b7e-4c1e-8e9d-8861ddbde7ff",
        "colab": {
          "base_uri": "https://localhost:8080/",
          "height": 36
        }
      },
      "execution_count": null,
      "outputs": [
        {
          "output_type": "execute_result",
          "data": {
            "text/plain": [
              "'/content/drive/MyDrive/model.h5'"
            ],
            "application/vnd.google.colaboratory.intrinsic+json": {
              "type": "string"
            }
          },
          "metadata": {},
          "execution_count": 14
        }
      ]
    },
    {
      "cell_type": "code",
      "source": [],
      "metadata": {
        "id": "W78g1HLsgh23"
      },
      "execution_count": null,
      "outputs": []
    }
  ]
}